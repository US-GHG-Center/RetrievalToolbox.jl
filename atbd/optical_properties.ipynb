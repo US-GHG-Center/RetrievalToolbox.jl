{
 "cells": [
  {
   "cell_type": "markdown",
   "id": "79a13b0e-e9f5-4b37-8a95-8fbbfb825eba",
   "metadata": {},
   "source": [
    "# Optical Properties\n",
    "\n",
    "\n",
    "\n",
    "\n"
   ]
  },
  {
   "cell_type": "markdown",
   "id": "fa8c8a25-3842-4822-8da4-fa91bfb3d307",
   "metadata": {},
   "source": [
    "## Optical Depth due to Gas Absorption\n",
    "\n"
   ]
  },
  {
   "cell_type": "markdown",
   "id": "342815fb-8e8e-4da8-bffd-e3f50234e92a",
   "metadata": {},
   "source": [
    "```{eval-rst}\n",
    "\n",
    ".. _fig_layered_atmosphere_gas:\n",
    ".. tikz:: Illustrative sketch to introduce the layered atmosphere with quantities defined on layer boundaries (levels) and layers.\n",
    "    :align: center\n",
    "    :libs: arrows\n",
    "    \n",
    "    \\begin{tikzpicture}\n",
    "  \n",
    "        \\draw[latex-,black,thick] (0.0, 0.25) -- (0.0, 10.0) node[above] {pressure $p$};\n",
    "        \\draw[-latex,black,thick] (0.0, 0.0) -- (10.0, 0.0) node[right] {};\n",
    "        \n",
    "        \\draw[black,very thick] (0.0, 9.0) -- (6.0,9.0) node[right] {level 0, top of the atmosphere (TOA)};\n",
    "        \\draw[black,very thick] (0.0, 7.0) -- (6.0,7.0) node[right] {level 1};\n",
    "        \\draw[black,very thick] (0.0, 5.0) -- (6.0,5.0) node[right] {level 2};\n",
    "\n",
    "        \\node at (3.0, 4.0) {$\\vdots$};\n",
    "\n",
    "        \\draw[black,very thick] (0.0, 3.0) -- (6.0,3.0) node[right] {level $N_{\\mathrm{lev}} - 1$};\n",
    "        \\draw[black,very thick] (0.0, 1.0) -- (6.0,1.0) node[right] {level $N_{\\mathrm{lev}}$, surface};\n",
    "        \n",
    "    \\end{tikzpicture}\n",
    "```"
   ]
  },
  {
   "cell_type": "markdown",
   "id": "9b03af02-9bf4-41a9-8c88-2fb79e6e77b4",
   "metadata": {},
   "source": [
    "## Optical Depth due to Rayleigh Scattering"
   ]
  },
  {
   "cell_type": "markdown",
   "id": "3928adb7-b8ce-4669-9a67-241b107a142d",
   "metadata": {},
   "source": [
    "## Optical Depth due to Aerosol Scattering and Absorption"
   ]
  },
  {
   "cell_type": "code",
   "execution_count": null,
   "id": "d1e403dc-cc7e-46b0-b515-0336e584d013",
   "metadata": {},
   "outputs": [],
   "source": []
  },
  {
   "cell_type": "code",
   "execution_count": null,
   "id": "e969cd1d-829f-4805-9b19-d028b48212b6",
   "metadata": {},
   "outputs": [],
   "source": []
  },
  {
   "cell_type": "code",
   "execution_count": null,
   "id": "89f189b9-7ed3-40c9-a0b7-df266c30f02f",
   "metadata": {},
   "outputs": [],
   "source": []
  }
 ],
 "metadata": {
  "language_info": {
   "name": "julia"
  }
 },
 "nbformat": 4,
 "nbformat_minor": 5
}
